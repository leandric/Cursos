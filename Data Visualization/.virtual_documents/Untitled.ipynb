import pandas as pd

pd.set_option('display.max_columns', None)


df = pd.read_csv('https://raw.githubusercontent.com/alura-cursos/bibliotecas_visualizacao/refs/heads/main/Dados/imigrantes_canada.csv')





df.head()


df.info()





df.set_index("País", inplace=True)


df.head(3)


anos = list(map(str, range(1980, 2014, 1)))


anos



